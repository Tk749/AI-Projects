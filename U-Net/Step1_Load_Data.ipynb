{
 "cells": [
  {
   "cell_type": "markdown",
   "id": "11348eb0-78d1-400b-ad40-d43544a6abc7",
   "metadata": {
    "tags": []
   },
   "source": [
    "#### Dataset\n",
    "oxford-iiit-pet"
   ]
  },
  {
   "cell_type": "code",
   "execution_count": 1,
   "id": "43c13a5e-7d5a-491e-a9b6-a676d9a285da",
   "metadata": {
    "tags": []
   },
   "outputs": [],
   "source": [
    "import pandas as pd\n",
    "import cv2\n",
    "import numpy as np\n",
    "import os"
   ]
  },
  {
   "cell_type": "code",
   "execution_count": 2,
   "id": "769331be-c829-43a1-947a-e6208b83e621",
   "metadata": {
    "tags": []
   },
   "outputs": [],
   "source": [
    "Height = 128\n",
    "Width= 128\n",
    "input_shape = (128,128,3)\n",
    "NumOfCategories = 3"
   ]
  },
  {
   "cell_type": "markdown",
   "id": "48501f2b-64b4-415a-9c50-f7136feab4eb",
   "metadata": {
    "tags": []
   },
   "source": [
    "# Load Data"
   ]
  },
  {
   "cell_type": "code",
   "execution_count": 3,
   "id": "864247f3-b926-47df-ac52-7e44449046dd",
   "metadata": {
    "tags": []
   },
   "outputs": [],
   "source": [
    "path = \"./oxford-iiit-pet/\"\n",
    "trainFile = path + \"annotations/trainval.txt\"\n",
    "testFile = path + \"annotations/test.txt\""
   ]
  },
  {
   "cell_type": "code",
   "execution_count": 4,
   "id": "770c6c99-b1e8-4ef5-8d32-f13afe7225a4",
   "metadata": {
    "tags": []
   },
   "outputs": [],
   "source": [
    "# train\n",
    "allImages = []\n",
    "maskImages = []"
   ]
  },
  {
   "cell_type": "code",
   "execution_count": 5,
   "id": "f06889bd-f005-4f34-9d22-0504d548b7dc",
   "metadata": {
    "tags": []
   },
   "outputs": [],
   "source": [
    "df = pd.read_csv(trainFile, sep=\" \", header=None) # load the train images and the original masks \n",
    "\n",
    "names = df[0].values # list of file names"
   ]
  },
  {
   "cell_type": "code",
   "execution_count": 6,
   "id": "509dcbde-fec5-4ab0-9a38-ef7de779c97d",
   "metadata": {
    "tags": []
   },
   "outputs": [],
   "source": [
    "# df"
   ]
  },
  {
   "cell_type": "code",
   "execution_count": 7,
   "id": "840be5a0-b720-4066-97ab-e2162c3e5726",
   "metadata": {
    "tags": []
   },
   "outputs": [],
   "source": [
    "# load the images\n",
    "\n",
    "for name in names :\n",
    "    # Image\n",
    "    imageFileName = path + \"images/\" + name + \".jpg\"   # Image file path\n",
    "    img = cv2.imread(imageFileName , cv2.IMREAD_COLOR) # Load the image in color using OpenCV\n",
    "    img = cv2.resize(img, (Width,Height))              # Resize the image to the specified width and height\n",
    "    img = img / 255.0                                  # Normalize the image pixel values to the range [0, 1]\n",
    "    img = img.astype(np.float32)                       # Convert the image data type to np.float32\n",
    "    allImages.append(img)                              # Append the image to the list of all images\n",
    "\n",
    "    # mask\n",
    "    maskFileName = path + \"annotations/trimaps/\" + name + \".png\" # Mask file path\n",
    "    mask = cv2.imread(maskFileName , cv2.IMREAD_GRAYSCALE)       # gray scale images\n",
    "    mask = cv2.resize(mask , (Width, Height))                    # Resize the mask to the specified width and height\n",
    "    maskImages.append(mask)                                      # Append the mask image to the list"
   ]
  },
  {
   "cell_type": "code",
   "execution_count": 8,
   "id": "8a12642c-750e-4888-a2f2-5dfcf1cfa60f",
   "metadata": {
    "tags": []
   },
   "outputs": [],
   "source": [
    "# Convert the lists of images and masks to NumPy arrays\n",
    "allImagesNP = np.array(allImages)\n",
    "maskImagesNP = np.array(maskImages)\n",
    "\n",
    "# Convert the mask images to integer data type\n",
    "maskImagesNP = maskImagesNP.astype(int)"
   ]
  },
  {
   "cell_type": "code",
   "execution_count": 9,
   "id": "3c2b91d3-f8f6-40b4-a992-8053eeb2d96b",
   "metadata": {
    "tags": []
   },
   "outputs": [
    {
     "name": "stdout",
     "output_type": "stream",
     "text": [
      "(3680, 128, 128, 3)\n",
      "float32\n",
      "(3680, 128, 128)\n",
      "int32\n"
     ]
    }
   ],
   "source": [
    "print(allImagesNP.shape)\n",
    "print(allImagesNP.dtype)\n",
    "\n",
    "print(maskImagesNP.shape)\n",
    "print(maskImagesNP.dtype)"
   ]
  },
  {
   "cell_type": "code",
   "execution_count": 10,
   "id": "d6f69200-5b16-482e-819b-1cd161100649",
   "metadata": {
    "tags": []
   },
   "outputs": [
    {
     "data": {
      "text/plain": [
       "(3680, 128, 128)"
      ]
     },
     "execution_count": 10,
     "metadata": {},
     "output_type": "execute_result"
    }
   ],
   "source": [
    "maskImagesNP.shape"
   ]
  },
  {
   "cell_type": "code",
   "execution_count": 11,
   "id": "f70e2cef-0961-4624-8567-459806e6e982",
   "metadata": {
    "tags": []
   },
   "outputs": [
    {
     "name": "stdout",
     "output_type": "stream",
     "text": [
      "[[2 2 2 2 2 2 2 2 2 2 2 2 2 2 2 2]\n",
      " [2 2 2 2 2 2 2 2 2 2 2 2 2 2 2 2]\n",
      " [2 2 2 2 2 2 2 2 2 2 2 2 2 2 2 2]\n",
      " [2 2 2 2 2 2 2 2 3 2 2 2 3 1 2 2]\n",
      " [2 2 2 2 2 2 3 1 1 3 3 3 1 3 2 2]\n",
      " [2 2 2 2 2 2 3 1 1 1 1 1 1 3 2 2]\n",
      " [2 2 2 2 3 1 1 1 1 1 1 1 1 3 2 2]\n",
      " [2 2 2 3 1 1 1 1 1 1 1 1 1 3 2 2]\n",
      " [2 2 3 1 1 1 1 1 1 1 1 1 3 3 2 2]\n",
      " [2 2 3 1 1 1 1 1 1 1 1 3 2 2 2 2]\n",
      " [2 2 3 1 1 1 1 1 1 1 1 2 2 2 2 2]\n",
      " [2 2 3 1 1 1 1 1 1 1 1 3 2 2 2 2]\n",
      " [2 2 3 1 1 1 1 1 1 3 2 2 2 2 2 2]\n",
      " [2 2 2 3 3 3 1 1 3 2 2 2 2 2 2 2]\n",
      " [2 2 2 2 3 3 3 1 3 2 2 2 2 2 2 2]\n",
      " [2 2 2 2 3 1 1 3 2 2 2 2 2 2 2 2]]\n"
     ]
    }
   ],
   "source": [
    "# For see the image as a numpy array\n",
    "# Resize the first mask image in maskImagesNP to a size of (16, 16) using nearest-neighbor interpolation\n",
    "x = cv2.resize(maskImagesNP[0], (16,16), interpolation=cv2.INTER_NEAREST)\n",
    "print(x)\n",
    "\n",
    "# value == 1 -> main object\n",
    "# value == 2 -> background\n",
    "# value == 3 -> border of the object"
   ]
  },
  {
   "cell_type": "code",
   "execution_count": 12,
   "id": "7016241c-5e15-48a6-bb3a-bd983150f17a",
   "metadata": {
    "tags": []
   },
   "outputs": [],
   "source": [
    "# Test\n",
    "allTestImages = []\n",
    "maskTestImages = []\n",
    "\n",
    "# Load test data\n",
    "df = pd.read_csv(testFile, sep=\" \", header=None)\n",
    "names = df[0].values # get the list of files"
   ]
  },
  {
   "cell_type": "code",
   "execution_count": 13,
   "id": "6ff03537-874b-46e4-bf47-b4b8c600df0d",
   "metadata": {
    "tags": []
   },
   "outputs": [],
   "source": [
    "for name in names :\n",
    "    # Image\n",
    "    imageFileName = path + \"images/\" + name + \".jpg\"   # Image file path\n",
    "    img = cv2.imread(imageFileName , cv2.IMREAD_COLOR) # Load the image in color using OpenCV\n",
    "    img = cv2.resize(img, (Width,Height))              # Resize the image to the specified width and height\n",
    "    img = img / 255.0                                  # Normalize the image pixel values to the range [0, 1]\n",
    "    img = img.astype(np.float32)                       # Convert the image data type to np.float32\n",
    "    allTestImages.append(img)                          # Append the image to the list of all images\n",
    "\n",
    "    # mask\n",
    "    maskFileName = path + \"annotations/trimaps/\" + name + \".png\" # Mask file path\n",
    "    mask = cv2.imread(maskFileName , cv2.IMREAD_GRAYSCALE)       # gray scale images\n",
    "    mask = cv2.resize(mask , (Width, Height))                    # Resize the mask to the specified width and height\n",
    "    maskTestImages.append(mask)                                  # Append the mask image to the list"
   ]
  },
  {
   "cell_type": "code",
   "execution_count": 14,
   "id": "8c169f0c-93ac-45fe-a24e-80a711fb139e",
   "metadata": {
    "tags": []
   },
   "outputs": [],
   "source": [
    "allTestImagesNP = np.array(allTestImages)\n",
    "maskTestImagesNP = np.array(maskTestImages)\n",
    "\n",
    "maskTestImagesNP = maskTestImagesNP.astype(int)"
   ]
  },
  {
   "cell_type": "code",
   "execution_count": 15,
   "id": "e8125050-263d-4f40-be97-173e42e2e07e",
   "metadata": {
    "tags": []
   },
   "outputs": [
    {
     "name": "stdout",
     "output_type": "stream",
     "text": [
      "(3669, 128, 128, 3)\n",
      "float32\n",
      "(3669, 128, 128)\n",
      "int32\n"
     ]
    }
   ],
   "source": [
    "print(allTestImagesNP.shape)\n",
    "print(allTestImagesNP.dtype)\n",
    "\n",
    "print(maskTestImagesNP.shape)\n",
    "print(maskTestImagesNP.dtype)"
   ]
  },
  {
   "cell_type": "code",
   "execution_count": 16,
   "id": "3df9d4df-5b54-4eea-b758-e4b9ee9bed80",
   "metadata": {
    "tags": []
   },
   "outputs": [],
   "source": [
    "# Create the \"numpy_array\" folder if it doesn't already exist\n",
    "if not os.path.exists(\"numpy_array\"):\n",
    "    os.makedirs(\"numpy_array\")"
   ]
  },
  {
   "cell_type": "code",
   "execution_count": 17,
   "id": "bcea2b18-c969-4b74-aa2d-4bdd03fb7940",
   "metadata": {
    "tags": []
   },
   "outputs": [],
   "source": [
    "# save numpy array\n",
    "np.save(\"./numpy_array/allImagesNP.npy\",      allImagesNP)\n",
    "np.save(\"./numpy_array/maskImagesNP.npy\",     maskImagesNP)\n",
    "np.save(\"./numpy_array/allTestImagesNP.npy\",  allTestImagesNP)\n",
    "np.save(\"./numpy_array/maskTestImagesNP.npy\", maskTestImagesNP)"
   ]
  }
 ],
 "metadata": {
  "kernelspec": {
   "display_name": "Python 3 (ipykernel)",
   "language": "python",
   "name": "python3"
  },
  "language_info": {
   "codemirror_mode": {
    "name": "ipython",
    "version": 3
   },
   "file_extension": ".py",
   "mimetype": "text/x-python",
   "name": "python",
   "nbconvert_exporter": "python",
   "pygments_lexer": "ipython3",
   "version": "3.11.3"
  }
 },
 "nbformat": 4,
 "nbformat_minor": 5
}
