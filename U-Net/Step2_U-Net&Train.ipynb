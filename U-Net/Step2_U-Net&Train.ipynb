{
 "cells": [
  {
   "cell_type": "code",
   "execution_count": 1,
   "id": "a08d7f22-9df3-4445-b02e-f87f96824310",
   "metadata": {
    "tags": []
   },
   "outputs": [],
   "source": [
    "import pandas as pd\n",
    "import cv2\n",
    "import numpy as np\n",
    "from tensorflow.keras.layers import Input, Conv2D, BatchNormalization , Activation, MaxPool2D, UpSampling2D, Concatenate, MaxPooling2D, Dropout, Conv2DTranspose, concatenate\n",
    "from tensorflow.keras.models import Model\n",
    "import tensorflow as tf\n",
    "from tensorflow import keras\n",
    "from sklearn.model_selection import train_test_split\n",
    "import tensorflow as tf\n",
    "from keras.callbacks import ReduceLROnPlateau, EarlyStopping\n",
    "import matplotlib.pyplot as plt\n",
    "import os"
   ]
  },
  {
   "cell_type": "code",
   "execution_count": 2,
   "id": "ea52d978-77e3-4911-8e95-41d9b52ce735",
   "metadata": {
    "tags": []
   },
   "outputs": [],
   "source": [
    "Height = 128\n",
    "Width= 128\n",
    "input_shape = (128,128,3)\n",
    "NumOfCategories = 3"
   ]
  },
  {
   "cell_type": "markdown",
   "id": "b4724f5b-4725-4bee-b5bc-50f548a78585",
   "metadata": {},
   "source": [
    "# U-NET"
   ]
  },
  {
   "cell_type": "code",
   "execution_count": 3,
   "id": "ef21b1c3-c4cb-42a2-82bf-a7cbf6434282",
   "metadata": {
    "tags": []
   },
   "outputs": [],
   "source": [
    "def double_conv_block(x, n_filters):\n",
    "\n",
    "    # Conv2D then ReLU activation\n",
    "    x = Conv2D(n_filters, 3, padding = \"same\", activation = \"relu\")(x)\n",
    "    # Conv2D then ReLU activation\n",
    "    x = Conv2D(n_filters, 3, padding = \"same\", activation = \"relu\")(x)\n",
    "\n",
    "    return x\n",
    "\n",
    "def downsample_block(x, n_filters):\n",
    "    f = double_conv_block(x, n_filters)\n",
    "    p = MaxPool2D(2)(f)\n",
    "    p = Dropout(0.3)(p)\n",
    "\n",
    "    return f, p\n",
    "\n",
    "def upsample_block(x, conv_features, n_filters):\n",
    "    # upsample\n",
    "    x = Conv2DTranspose(n_filters, 3, 2, padding=\"same\")(x)\n",
    "    # concatenate \n",
    "    x = concatenate([x, conv_features])\n",
    "    # dropout\n",
    "    x = Dropout(0.3)(x)\n",
    "    # Conv2D twice with ReLU activation\n",
    "    x = double_conv_block(x, n_filters)\n",
    "\n",
    "    return x\n",
    "\n",
    "def build_unet_model():\n",
    "\n",
    "    # inputs\n",
    "    inputs = Input(shape=(128,128,3))\n",
    "\n",
    "    # encoder: contracting path - downsample\n",
    "    # 1 - downsample\n",
    "    f1, p1 = downsample_block(inputs, 64)\n",
    "    # 2 - downsample\n",
    "    f2, p2 = downsample_block(p1, 128)\n",
    "    # 3 - downsample\n",
    "    f3, p3 = downsample_block(p2, 256)\n",
    "    # 4 - downsample\n",
    "    f4, p4 = downsample_block(p3, 512)\n",
    "\n",
    "    # 5 - bottleneck\n",
    "    bottleneck = double_conv_block(p4, 1024)\n",
    "\n",
    "    # decoder: expanding path - upsample\n",
    "    # 6 - upsample\n",
    "    u6 = upsample_block(bottleneck, f4, 512)\n",
    "    # 7 - upsample\n",
    "    u7 = upsample_block(u6, f3, 256)\n",
    "    # 8 - upsample\n",
    "    u8 = upsample_block(u7, f2, 128)\n",
    "    # 9 - upsample\n",
    "    u9 = upsample_block(u8, f1, 64)\n",
    "\n",
    "    # outputs\n",
    "    outputs = Conv2D(3, 1, padding=\"same\", activation = \"softmax\")(u9)\n",
    "\n",
    "    # unet model with Keras Functional API\n",
    "    unet_model = tf.keras.Model(inputs, outputs, name=\"U-Net\")\n",
    "\n",
    "    return unet_model"
   ]
  },
  {
   "cell_type": "code",
   "execution_count": 4,
   "id": "19b3cba3-b18e-49cf-a69e-d9f409e6b691",
   "metadata": {
    "tags": []
   },
   "outputs": [],
   "source": [
    "\n",
    "def conv_block(inputs, filters, pool=True):\n",
    "    x = Conv2D(filters , 3 , padding=\"same\")(inputs)\n",
    "    x = BatchNormalization()(x)\n",
    "    x = Activation(\"relu\")(x)\n",
    "\n",
    "    x= Conv2D(filters, 3, padding=\"same\")(x)\n",
    "    x = BatchNormalization()(x)\n",
    "    x= Activation(\"relu\")(x)\n",
    "\n",
    "    if pool == True:\n",
    "        p = MaxPool2D((2,2))(x)\n",
    "        return x, p\n",
    "    else :\n",
    "        return x\n",
    "\n",
    "\n",
    "def build_unet(shape , num_classes):\n",
    "    inputs = Input(shape)\n",
    "\n",
    "    # Encoder\n",
    "    x1 , p1 = conv_block(inputs, 16, pool=True)\n",
    "    x2 , p2 = conv_block(p1, 32, pool=True)\n",
    "    x3 , p3 = conv_block(p2 , 48 , pool=True)\n",
    "    x4 , p4 = conv_block(p3, 64, pool=True)\n",
    "\n",
    "    #Bridge\n",
    "    b1 = conv_block(p4 , 128 , pool=False)\n",
    "\n",
    "    # decoder\n",
    "    u1 = UpSampling2D((2,2), interpolation=\"bilinear\")(b1)\n",
    "    c1 = Concatenate()([u1, x4])\n",
    "    x5 = conv_block(c1, 64, pool=False)\n",
    "\n",
    "\n",
    "    u2 = UpSampling2D((2,2),interpolation=\"bilinear\")(x5)\n",
    "    c2 = Concatenate()([u2, x3])\n",
    "    x6 = conv_block(c2,48,pool=False)\n",
    "\n",
    "\n",
    "    u3 = UpSampling2D((2,2),interpolation=\"bilinear\")(x6)\n",
    "    c3 = Concatenate()([u3, x2])\n",
    "    x7 = conv_block(c3, 32 , pool=False)\n",
    "\n",
    "    u4 = UpSampling2D((2,2) ,interpolation=\"bilinear\")(x7)\n",
    "    c4 = Concatenate()([u4, x1])\n",
    "    x8 = conv_block(c4 , 16 , pool=False)\n",
    "\n",
    "\n",
    "    # output layer\n",
    "    output = Conv2D(num_classes,1, padding=\"same\", activation=\"softmax\")(x8)\n",
    "\n",
    "    return Model(inputs, output)"
   ]
  },
  {
   "cell_type": "markdown",
   "id": "2a94cf08-3d02-4190-9c73-4d6ea0b6e4c5",
   "metadata": {},
   "source": [
    "# Train"
   ]
  },
  {
   "cell_type": "code",
   "execution_count": 5,
   "id": "e0c25c73-faa7-49da-96ea-506a3288a9f3",
   "metadata": {
    "tags": []
   },
   "outputs": [],
   "source": [
    "allImagesNP  = np.load(\"./numpy_array/allImagesNP.npy\")\n",
    "maskImagesNP = np.load(\"./numpy_array/maskImagesNP.npy\")"
   ]
  },
  {
   "cell_type": "code",
   "execution_count": 6,
   "id": "250004c6-34d3-4bb8-8b37-300a4eb57069",
   "metadata": {
    "tags": []
   },
   "outputs": [],
   "source": [
    "maskImagesNP = maskImagesNP -1 \n",
    "maskForTheModel = tf.keras.utils.to_categorical(maskImagesNP , num_classes=NumOfCategories) # One hot encoder\n",
    "\n",
    "maskForTheModel = maskForTheModel.astype(int) # convert from float to integer"
   ]
  },
  {
   "cell_type": "code",
   "execution_count": 7,
   "id": "4947f197-2e72-43d7-8b83-819591043cf5",
   "metadata": {
    "tags": []
   },
   "outputs": [],
   "source": [
    "X_train, X_val , y_train , y_val = train_test_split(allImagesNP, maskForTheModel, test_size=0.1 , random_state=42)"
   ]
  },
  {
   "cell_type": "code",
   "execution_count": 8,
   "id": "5fbfd524-bff2-4626-bc0d-79dac2010a46",
   "metadata": {
    "tags": []
   },
   "outputs": [
    {
     "name": "stdout",
     "output_type": "stream",
     "text": [
      "(3312, 128, 128, 3)\n",
      "(3312, 128, 128, 3)\n",
      "(368, 128, 128, 3)\n",
      "(368, 128, 128, 3)\n"
     ]
    }
   ],
   "source": [
    "# Shapes\n",
    "print(X_train.shape)\n",
    "print(y_train.shape)\n",
    "\n",
    "print(X_val.shape)\n",
    "print(y_val.shape)"
   ]
  },
  {
   "cell_type": "code",
   "execution_count": 9,
   "id": "79474043-213e-4d31-b12b-fdfc7c407fc2",
   "metadata": {
    "tags": []
   },
   "outputs": [
    {
     "name": "stdout",
     "output_type": "stream",
     "text": [
      "Epoch 1/10\n",
      "828/828 [==============================] - ETA: 0s - loss: 0.7460 - accuracy: 0.7001\n",
      "Epoch 1: val_loss improved from inf to 0.61280, saving model to ./models\\model-Unet.h5\n"
     ]
    },
    {
     "name": "stderr",
     "output_type": "stream",
     "text": [
      "C:\\Users\\Taha\\anaconda3\\Lib\\site-packages\\keras\\src\\engine\\training.py:3000: UserWarning: You are saving your model as an HDF5 file via `model.save()`. This file format is considered legacy. We recommend using instead the native Keras format, e.g. `model.save('my_model.keras')`.\n",
      "  saving_api.save_model(\n"
     ]
    },
    {
     "name": "stdout",
     "output_type": "stream",
     "text": [
      "828/828 [==============================] - 265s 308ms/step - loss: 0.7460 - accuracy: 0.7001 - val_loss: 0.6128 - val_accuracy: 0.7705 - lr: 1.0000e-04\n",
      "Epoch 2/10\n",
      "828/828 [==============================] - ETA: 0s - loss: 0.5625 - accuracy: 0.7830\n",
      "Epoch 2: val_loss improved from 0.61280 to 0.51405, saving model to ./models\\model-Unet.h5\n",
      "828/828 [==============================] - 317s 383ms/step - loss: 0.5625 - accuracy: 0.7830 - val_loss: 0.5140 - val_accuracy: 0.8012 - lr: 1.0000e-04\n",
      "Epoch 3/10\n",
      "828/828 [==============================] - ETA: 0s - loss: 0.5045 - accuracy: 0.8041\n",
      "Epoch 3: val_loss improved from 0.51405 to 0.48865, saving model to ./models\\model-Unet.h5\n",
      "828/828 [==============================] - 301s 364ms/step - loss: 0.5045 - accuracy: 0.8041 - val_loss: 0.4886 - val_accuracy: 0.8071 - lr: 1.0000e-04\n",
      "Epoch 4/10\n",
      "828/828 [==============================] - ETA: 0s - loss: 0.4667 - accuracy: 0.8195\n",
      "Epoch 4: val_loss improved from 0.48865 to 0.46017, saving model to ./models\\model-Unet.h5\n",
      "828/828 [==============================] - 295s 357ms/step - loss: 0.4667 - accuracy: 0.8195 - val_loss: 0.4602 - val_accuracy: 0.8197 - lr: 1.0000e-04\n",
      "Epoch 5/10\n",
      "828/828 [==============================] - ETA: 0s - loss: 0.4380 - accuracy: 0.8311\n",
      "Epoch 5: val_loss improved from 0.46017 to 0.43399, saving model to ./models\\model-Unet.h5\n",
      "828/828 [==============================] - 290s 350ms/step - loss: 0.4380 - accuracy: 0.8311 - val_loss: 0.4340 - val_accuracy: 0.8303 - lr: 1.0000e-04\n",
      "Epoch 6/10\n",
      "828/828 [==============================] - ETA: 0s - loss: 0.4171 - accuracy: 0.8395\n",
      "Epoch 6: val_loss improved from 0.43399 to 0.42425, saving model to ./models\\model-Unet.h5\n",
      "828/828 [==============================] - 292s 353ms/step - loss: 0.4171 - accuracy: 0.8395 - val_loss: 0.4242 - val_accuracy: 0.8337 - lr: 1.0000e-04\n",
      "Epoch 7/10\n",
      "828/828 [==============================] - ETA: 0s - loss: 0.3929 - accuracy: 0.8493\n",
      "Epoch 7: val_loss improved from 0.42425 to 0.41976, saving model to ./models\\model-Unet.h5\n",
      "828/828 [==============================] - 296s 358ms/step - loss: 0.3929 - accuracy: 0.8493 - val_loss: 0.4198 - val_accuracy: 0.8377 - lr: 1.0000e-04\n",
      "Epoch 8/10\n",
      "828/828 [==============================] - ETA: 0s - loss: 0.3715 - accuracy: 0.8576\n",
      "Epoch 8: val_loss improved from 0.41976 to 0.41936, saving model to ./models\\model-Unet.h5\n",
      "828/828 [==============================] - 290s 350ms/step - loss: 0.3715 - accuracy: 0.8576 - val_loss: 0.4194 - val_accuracy: 0.8342 - lr: 1.0000e-04\n",
      "Epoch 9/10\n",
      "828/828 [==============================] - ETA: 0s - loss: 0.3554 - accuracy: 0.8636\n",
      "Epoch 9: val_loss did not improve from 0.41936\n",
      "828/828 [==============================] - 296s 358ms/step - loss: 0.3554 - accuracy: 0.8636 - val_loss: 0.4271 - val_accuracy: 0.8361 - lr: 1.0000e-04\n",
      "Epoch 10/10\n",
      "828/828 [==============================] - ETA: 0s - loss: 0.3366 - accuracy: 0.8712\n",
      "Epoch 10: val_loss improved from 0.41936 to 0.40475, saving model to ./models\\model-Unet.h5\n",
      "828/828 [==============================] - 302s 365ms/step - loss: 0.3366 - accuracy: 0.8712 - val_loss: 0.4048 - val_accuracy: 0.8481 - lr: 1.0000e-04\n"
     ]
    }
   ],
   "source": [
    "from keras.callbacks import ModelCheckpoint, ReduceLROnPlateau, EarlyStopping\n",
    "\n",
    "shape = (128,128,3)\n",
    "num_classes = 3\n",
    "lr = 1e-4 # 0.0001\n",
    "batch_size = 4\n",
    "epochs = 10\n",
    "\n",
    "model = build_unet(shape , num_classes)\n",
    "\n",
    "model.compile(loss=\"categorical_crossentropy\", optimizer = tf.keras.optimizers.Adam(lr), metrics=['accuracy'])\n",
    "\n",
    "stepsPerEpoch = np.ceil(len(X_train)/batch_size)\n",
    "validationSteps = np.ceil(len(X_val)/batch_size)\n",
    "\n",
    "best_model_file=\"./models/model-Unet.h5\"\n",
    "\n",
    "callbacks = [\n",
    "    ModelCheckpoint(best_model_file, verbose=1, save_best_only=True),\n",
    "    ReduceLROnPlateau(monitor=\"val_loss\", patience=3, factor=0.1, verbose=1, min_lr=1e-6),\n",
    "    EarlyStopping(monitor='val_loss',patience=5 , verbose=1)\n",
    "]\n",
    "\n",
    "history = model.fit(X_train, y_train,\n",
    "                    batch_size=batch_size,\n",
    "                    epochs=epochs,\n",
    "                    verbose=1,\n",
    "                    validation_data = (X_val, y_val),\n",
    "                    validation_steps = validationSteps,\n",
    "                    steps_per_epoch = stepsPerEpoch,\n",
    "                    shuffle=True,\n",
    "                    callbacks=callbacks)"
   ]
  },
  {
   "cell_type": "code",
   "execution_count": 10,
   "id": "1cf96f94-989c-43e3-b39b-a58fadaa4c31",
   "metadata": {
    "tags": []
   },
   "outputs": [],
   "source": [
    "acc = history.history['accuracy']\n",
    "val_acc = history.history['val_accuracy']\n",
    "loss = history.history['loss']\n",
    "val_loss = history.history['val_loss']\n",
    "\n",
    "epochs = range(len(acc))"
   ]
  },
  {
   "cell_type": "code",
   "execution_count": 11,
   "id": "87bb7b8f-429d-439e-836c-778e22103509",
   "metadata": {
    "tags": []
   },
   "outputs": [
    {
     "data": {
      "image/png": "[encoded data removed]",
      "text/plain": [
       "<Figure size 640x480 with 1 Axes>"
      ]
     },
     "metadata": {},
     "output_type": "display_data"
    }
   ],
   "source": [
    "# train and validation Accuracy chart\n",
    "plt.plot(epochs, acc , 'r', label=\"Train Accuracy\")\n",
    "plt.plot(epochs, val_acc, 'b' , label=\"Validation Accuracy\")\n",
    "plt.xlabel('Epoch')\n",
    "plt.ylabel('Accuracy')\n",
    "plt.title(\"Train and Validation Accuracy\")\n",
    "plt.legend(loc='lower right')\n",
    "plt.show()"
   ]
  },
  {
   "cell_type": "code",
   "execution_count": 12,
   "id": "7cafd0b9-ebc1-4355-8072-63849b26df27",
   "metadata": {
    "tags": []
   },
   "outputs": [
    {
     "data": {
      "image/png": "[encoded data removed]",
      "text/plain": [
       "<Figure size 640x480 with 1 Axes>"
      ]
     },
     "metadata": {},
     "output_type": "display_data"
    }
   ],
   "source": [
    "# train and validation loss chart\n",
    "plt.plot(epochs, loss , 'r', label=\"Train Loss\")\n",
    "plt.plot(epochs, val_loss, 'b' , label=\"Validation Loss\")\n",
    "plt.xlabel('Epoch')\n",
    "plt.ylabel('Loss')\n",
    "plt.title(\"Train and Validation Loss\")\n",
    "plt.legend(loc='upper right')\n",
    "plt.show()"
   ]
  },
  {
   "cell_type": "code",
   "execution_count": null,
   "id": "4013171b-0c5d-4610-bc13-167c4475cfd3",
   "metadata": {},
   "outputs": [],
   "source": []
  },
  {
   "cell_type": "code",
   "execution_count": null,
   "id": "d8f3042d-8316-4d0e-bbe4-6bd81d50d5d9",
   "metadata": {},
   "outputs": [],
   "source": []
  }
 ],
 "metadata": {
  "kernelspec": {
   "display_name": "Python 3 (ipykernel)",
   "language": "python",
   "name": "python3"
  },
  "language_info": {
   "codemirror_mode": {
    "name": "ipython",
    "version": 3
   },
   "file_extension": ".py",
   "mimetype": "text/x-python",
   "name": "python",
   "nbconvert_exporter": "python",
   "pygments_lexer": "ipython3",
   "version": "3.11.3"
  }
 },
 "nbformat": 4,
 "nbformat_minor": 5
}
